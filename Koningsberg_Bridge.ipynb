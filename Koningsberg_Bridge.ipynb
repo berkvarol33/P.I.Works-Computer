{
  "metadata": {
    "language_info": {
      "codemirror_mode": {
        "name": "python",
        "version": 3
      },
      "file_extension": ".py",
      "mimetype": "text/x-python",
      "name": "python",
      "nbconvert_exporter": "python",
      "pygments_lexer": "ipython3",
      "version": "3.8"
    },
    "kernelspec": {
      "name": "python",
      "display_name": "Python (Pyodide)",
      "language": "python"
    }
  },
  "nbformat_minor": 4,
  "nbformat": 4,
  "cells": [
    {
      "cell_type": "raw",
      "source": "\"cCdD\" a representation of a walk",
      "metadata": {}
    },
    {
      "cell_type": "raw",
      "source": "BRIDGES = [\n    \"AaB\",\n    \"AbB\",\n    \"AcC\",\n    \"AdC\",\n    \"AeD\",\n    \"BfD\",\n    \"CgD\",\n]",
      "metadata": {
        "tags": []
      }
    },
    {
      "cell_type": "code",
      "source": "def get_walks_starting_from(area,bridges=BRIDGES):\n    WALKS= []\n    \n    def make=walks(area,walked=None, bridges_crossed=None):\n        walked =walked or area\n        bridges_crossed=bridges_crossed or ()\n        #Get all of the bridges connected to 'area that havent been crossed\n        available_bridges =[\n            bridge\n            for bridge in bridges\n            if area in bridge and bridge not in bridges_crossed\n        ]\n        ",
      "metadata": {},
      "execution_count": null,
      "outputs": []
    }
  ]
}